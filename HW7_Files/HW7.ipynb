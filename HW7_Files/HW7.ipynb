{
 "cells": [
  {
   "cell_type": "markdown",
   "metadata": {},
   "source": [
    "# HW7\n",
    "\n",
    "Name:"
   ]
  },
  {
   "cell_type": "code",
   "execution_count": null,
   "metadata": {},
   "outputs": [],
   "source": [
    "# inside of the HW7_Files folder there is a text file called Dracula.txt that we will be using for this assignment\n",
    "\n",
    "# read in the Dracula.txt file and store it in a variable called dracula_text\n",
    "# Note the file is utf-8 encoded\n",
    "\n"
   ]
  },
  {
   "cell_type": "code",
   "execution_count": null,
   "metadata": {},
   "outputs": [],
   "source": [
    "# Create a method that will get the text inbetween the Gutenberg and START OF THIS PROJECT GUTENBERG EBOOK DRACULA lines. Name the method get_text(text) and have it return the text inbetween the two lines.\n",
    "def get_text(text):\n",
    "    # You can look for the following 2 strings:\n",
    "    # *** START OF THE PROJECT GUTENBERG EBOOK DRACULA ***\n",
    "    # *** END OF THE PROJECT GUTENBERG EBOOK DRACULA ***\n",
    "    start_index = text.find('*** START OF THE PROJECT GUTENBERG EBOOK DRACULA ***')\n",
    "    end_index = text.find('*** END OF THE PROJECT GUTENBERG EBOOK DRACULA ***')\n",
    "    return text[start_index + len('*** START OF THE PROJECT GUTENBERG EBOOK DRACULA ***'):end_index]\n",
    "    \n",
    "# Update the variable called dracula_text that is the result of calling the get_text method on the dracula_text variable\n",
    "dracula_text = get_text(dracula_text)\n",
    "# Update the variable called dracula_text that is the result of calling the get_text method on the dracula_text variable"
   ]
  },
  {
   "cell_type": "code",
   "execution_count": null,
   "metadata": {},
   "outputs": [],
   "source": [
    "# Clean the text by removing all punctuation and numbers. You can use the replace method to do this. Replace all punctuation and numbers with an empty string.\n",
    "replace_list = ['.', ',', '!', '?', '1', '2', '3', '4', '5', '6', '7', '8', '9', '0']\n",
    "for item in replace_list:\n",
    "    dracula_text = dracula_text.replace(item, '')"
   ]
  },
  {
   "cell_type": "code",
   "execution_count": null,
   "metadata": {},
   "outputs": [],
   "source": [
    "# Answer the following questions using python code:\n",
    "# 1. What is the total number of words in the text?\n",
    "print(\"Total number of words in the text: \")\n",
    "print(len(dracula_text.split()))\n",
    "print()\n",
    "\n",
    "# 2. What is the total number of unique words in the text?\n",
    "print(\"Total number of unique words in the text: \")\n",
    "print(len(set(dracula_text.split())))\n",
    "print()\n",
    "\n",
    "\n",
    "# 3. How many times is the word 'vampire' used in the text?\n",
    "print(\"The word 'vampire' is used in the text: \")\n",
    "print(dracula_text.count('vampire'))\n",
    "print()\n",
    "\n",
    "# 4. What is the name of Chapter 5?\n",
    "# Note in the text chapters are in roman numerals (5 is V)\n",
    "print(\"The name of Chapter 5 is: \")\n",
    "print(dracula_text[dracula_text.find('CHAPTER V'):dracula_text.find('CHAPTER VI')])\n",
    "print()\n",
    "\n",
    "# 5. What is the total number of words in Chapter 5?\n",
    "print(\"Total number of words in Chapter 5: \")\n",
    "print(len(dracula_text[dracula_text.find('CHAPTER V'):dracula_text.find('CHAPTER VI')].split()))\n",
    "print()\n",
    "\n",
    "# Hints:\n",
    "# To get just the text for chapter 5 you can use slicing between the start and end of chapter 5\n",
    "# To find the start of chapter 5 you can use the find method to find the index of the string 'CHAPTER V'\n",
    "# To find the end of chapter 5 you can use the find method to find the index of the string 'CHAPTER VI'\n",
    "# Then you can use slicing to get the text inbetween the start and end of chapter 5\n",
    "# IE find 'CHAPTER V' : find 'CHAPTER VI'\n",
    "# Then find the length of the text for the result of the slicing\n",
    "\n"
   ]
  }
 ],
 "metadata": {
  "language_info": {
   "name": "python"
  }
 },
 "nbformat": 4,
 "nbformat_minor": 2
}
